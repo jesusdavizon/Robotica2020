{
 "cells": [
  {
   "cell_type": "code",
   "execution_count": 25,
   "metadata": {},
   "outputs": [],
   "source": [
    "from sklearn import linear_model\n",
    "import numpy as np\n",
    "import matplotlib.pyplot as plt\n",
    "\n"
   ]
  },
  {
   "cell_type": "code",
   "execution_count": 33,
   "metadata": {},
   "outputs": [
    {
     "data": {
      "image/png": "[encoded data removed]",
      "text/plain": [
       "<Figure size 432x288 with 1 Axes>"
      ]
     },
     "metadata": {
      "needs_background": "light"
     },
     "output_type": "display_data"
    }
   ],
   "source": [
    "#define dataset\n",
    "data=np.array([\n",
    "    [0.05, 0.12],\n",
    "    [0.18, 0.22],\n",
    "    [0.31, 0.35],\n",
    "    [0.42, 0.38],\n",
    "    [0.5, 0.49]])\n",
    "\n",
    "#split into inputs and outputs\n",
    "X,y=data[:,0], data[:,1]\n",
    "X=X.reshape((len(X), 1))\n",
    "\n",
    "lr=linear_model.LinearRegression()\n",
    "lr.fit(X,y)\n",
    "#predict\n",
    "yhat=lr.predict(X)\n",
    "\n",
    "#plot data and predictions\n",
    "plt.scatter(X, y)\n",
    "plt.plot(X, yhat, color='red')\n",
    "plt.show()"
   ]
  },
  {
   "cell_type": "code",
   "execution_count": 31,
   "metadata": {},
   "outputs": [
    {
     "data": {
      "text/plain": [
       "array([0.35765487])"
      ]
     },
     "execution_count": 31,
     "metadata": {},
     "output_type": "execute_result"
    }
   ],
   "source": [
    "lr.predict([[0.35]])"
   ]
  },
  {
   "cell_type": "code",
   "execution_count": 46,
   "metadata": {},
   "outputs": [
    {
     "name": "stdout",
     "output_type": "stream",
     "text": [
      " El volumen de la unidad C es OS\n",
      " El n£mero de serie del volumen es: CCA4-F279\n",
      "\n",
      " Directorio de C:\\Users\\Jesus Davizon.000\\1_Robotica\n",
      "\n",
      "24/02/2020  07:07 p. m.    <DIR>          .\n",
      "24/02/2020  07:07 p. m.    <DIR>          ..\n",
      "24/02/2020  06:35 p. m.    <DIR>          .ipynb_checkpoints\n",
      "27/01/2020  07:59 p. m.             3,773 Clase2.ipynb\n",
      "27/01/2020  07:21 p. m.            25,465 FuncionesMod.ipynb\n",
      "17/02/2020  08:06 p. m.             7,853 Giro motores carro.ipynb\n",
      "16/02/2020  11:15 p. m.         4,298,714 Graphics.ipynb\n",
      "24/02/2020  07:07 p. m.            34,622 Linear Regression.ipynb\n",
      "27/01/2020  07:27 p. m.             8,457 Matrices.ipynb\n",
      "17/02/2020  06:12 p. m.            10,299 ProgramacionLineal.ipynb\n",
      "17/02/2020  08:06 p. m.            32,775 Suspension.ipynb\n",
      "09/02/2020  09:31 p. m.             9,406 Tortuga.ipynb\n",
      "27/01/2020  07:21 p. m.             3,765 Vectores.ipynb\n",
      "              10 archivos      4,435,129 bytes\n",
      "               3 dirs  751,231,156,224 bytes libres\n"
     ]
    }
   ],
   "source": [
    "!dir"
   ]
  },
  {
   "cell_type": "code",
   "execution_count": 47,
   "metadata": {},
   "outputs": [],
   "source": [
    "import pandas as pd"
   ]
  },
  {
   "cell_type": "code",
   "execution_count": 48,
   "metadata": {},
   "outputs": [
    {
     "data": {
      "text/html": [
       "<div>\n",
       "<style scoped>\n",
       "    .dataframe tbody tr th:only-of-type {\n",
       "        vertical-align: middle;\n",
       "    }\n",
       "\n",
       "    .dataframe tbody tr th {\n",
       "        vertical-align: top;\n",
       "    }\n",
       "\n",
       "    .dataframe thead th {\n",
       "        text-align: right;\n",
       "    }\n",
       "</style>\n",
       "<table border=\"1\" class=\"dataframe\">\n",
       "  <thead>\n",
       "    <tr style=\"text-align: right;\">\n",
       "      <th></th>\n",
       "      <th>Marca temporal</th>\n",
       "      <th>Peso</th>\n",
       "      <th>Altura</th>\n",
       "    </tr>\n",
       "  </thead>\n",
       "  <tbody>\n",
       "    <tr>\n",
       "      <td>0</td>\n",
       "      <td>2020-02-24 18:15:40.377</td>\n",
       "      <td>100</td>\n",
       "      <td>180</td>\n",
       "    </tr>\n",
       "    <tr>\n",
       "      <td>1</td>\n",
       "      <td>2020-02-24 18:55:12.631</td>\n",
       "      <td>68</td>\n",
       "      <td>170</td>\n",
       "    </tr>\n",
       "    <tr>\n",
       "      <td>2</td>\n",
       "      <td>2020-02-24 18:55:26.376</td>\n",
       "      <td>65</td>\n",
       "      <td>169</td>\n",
       "    </tr>\n",
       "    <tr>\n",
       "      <td>3</td>\n",
       "      <td>2020-02-24 18:55:35.802</td>\n",
       "      <td>75</td>\n",
       "      <td>174</td>\n",
       "    </tr>\n",
       "    <tr>\n",
       "      <td>4</td>\n",
       "      <td>2020-02-24 18:55:46.441</td>\n",
       "      <td>75</td>\n",
       "      <td>185</td>\n",
       "    </tr>\n",
       "  </tbody>\n",
       "</table>\n",
       "</div>"
      ],
      "text/plain": [
       "           Marca temporal  Peso  Altura\n",
       "0 2020-02-24 18:15:40.377   100     180\n",
       "1 2020-02-24 18:55:12.631    68     170\n",
       "2 2020-02-24 18:55:26.376    65     169\n",
       "3 2020-02-24 18:55:35.802    75     174\n",
       "4 2020-02-24 18:55:46.441    75     185"
      ]
     },
     "execution_count": 48,
     "metadata": {},
     "output_type": "execute_result"
    }
   ],
   "source": [
    "df=pd.read_excel(\"Formulario sin título (respuestas).xlsx\")\n",
    "df.head()"
   ]
  },
  {
   "cell_type": "code",
   "execution_count": 49,
   "metadata": {},
   "outputs": [
    {
     "data": {
      "text/plain": [
       "array([100,  68,  65,  75,  75,  76,  75,  68,  61,  67,  52,  60,  68],\n",
       "      dtype=int64)"
      ]
     },
     "execution_count": 49,
     "metadata": {},
     "output_type": "execute_result"
    }
   ],
   "source": [
    "df[\"Peso\"].values"
   ]
  },
  {
   "cell_type": "code",
   "execution_count": 56,
   "metadata": {},
   "outputs": [
    {
     "data": {
      "image/png": "[encoded data removed]",
      "text/plain": [
       "<Figure size 864x648 with 1 Axes>"
      ]
     },
     "metadata": {
      "needs_background": "light"
     },
     "output_type": "display_data"
    },
    {
     "name": "stdout",
     "output_type": "stream",
     "text": [
      "[182.19452379]\n"
     ]
    }
   ],
   "source": [
    "#define dataset\n",
    "\n",
    "#split into inputs and outputs\n",
    "plt.figure(figsize=(12,9))\n",
    "X,y=df[\"Peso\"].values, df[\"Altura\"].values\n",
    "X=X.reshape((len(X), 1))\n",
    "\n",
    "lr=linear_model.LinearRegression()\n",
    "lr.fit(X,y)\n",
    "#predict\n",
    "yhat=lr.predict(X)\n",
    "\n",
    "#plot data and predictions\n",
    "plt.scatter(X, y)\n",
    "plt.plot(X, yhat, color='red')\n",
    "plt.show()\n",
    "print(lr.predict([[90]]))"
   ]
  },
  {
   "cell_type": "code",
   "execution_count": 72,
   "metadata": {},
   "outputs": [
    {
     "data": {
      "text/html": [
       "<div>\n",
       "<style scoped>\n",
       "    .dataframe tbody tr th:only-of-type {\n",
       "        vertical-align: middle;\n",
       "    }\n",
       "\n",
       "    .dataframe tbody tr th {\n",
       "        vertical-align: top;\n",
       "    }\n",
       "\n",
       "    .dataframe thead th {\n",
       "        text-align: right;\n",
       "    }\n",
       "</style>\n",
       "<table border=\"1\" class=\"dataframe\">\n",
       "  <thead>\n",
       "    <tr style=\"text-align: right;\">\n",
       "      <th></th>\n",
       "      <th></th>\n",
       "      <th>Fecha</th>\n",
       "      <th>Nombre Empleado</th>\n",
       "      <th>Dependencia</th>\n",
       "      <th>Puesto</th>\n",
       "      <th>Percepciones</th>\n",
       "      <th>Deducciones</th>\n",
       "      <th>Neto</th>\n",
       "    </tr>\n",
       "  </thead>\n",
       "  <tbody>\n",
       "    <tr>\n",
       "      <td rowspan=\"5\" valign=\"top\">13/02/2020</td>\n",
       "      <td>BECERRA CALVILLO MARIA BEATRIZ</td>\n",
       "      <td>SECRETARÍA DE LA HACIENDA PÚBLICA</td>\n",
       "      <td>CAJERO</td>\n",
       "      <td>ACTIVO</td>\n",
       "      <td>BASE</td>\n",
       "      <td>2508.46</td>\n",
       "      <td>518.70</td>\n",
       "      <td>1989.76</td>\n",
       "    </tr>\n",
       "    <tr>\n",
       "      <td>BUENO ESTRADA YESENIA</td>\n",
       "      <td>SECRETARÍA DE LA HACIENDA PÚBLICA</td>\n",
       "      <td>CAJERO</td>\n",
       "      <td>ACTIVO</td>\n",
       "      <td>BASE</td>\n",
       "      <td>2508.46</td>\n",
       "      <td>518.70</td>\n",
       "      <td>1989.76</td>\n",
       "    </tr>\n",
       "    <tr>\n",
       "      <td>BUENROSTRO PRIETO ERNESTO ALONSO</td>\n",
       "      <td>SECRETARÍA DE LA HACIENDA PÚBLICA</td>\n",
       "      <td>ANALISTA B</td>\n",
       "      <td>ACTIVO</td>\n",
       "      <td>BASE</td>\n",
       "      <td>2508.46</td>\n",
       "      <td>518.70</td>\n",
       "      <td>1989.76</td>\n",
       "    </tr>\n",
       "    <tr>\n",
       "      <td>BUENROSTRO PRIETO KARLA MARIA</td>\n",
       "      <td>SECRETARÍA DE LA HACIENDA PÚBLICA</td>\n",
       "      <td>AUXILIAR ADMINISTRATIVO</td>\n",
       "      <td>ACTIVO</td>\n",
       "      <td>BASE</td>\n",
       "      <td>2006.78</td>\n",
       "      <td>411.54</td>\n",
       "      <td>1595.24</td>\n",
       "    </tr>\n",
       "    <tr>\n",
       "      <td>CARDENAS ANTOLIN CARMEN FABIOLA</td>\n",
       "      <td>SECRETARÍA DE LA HACIENDA PÚBLICA</td>\n",
       "      <td>CAJERO</td>\n",
       "      <td>ACTIVO</td>\n",
       "      <td>BASE</td>\n",
       "      <td>2508.46</td>\n",
       "      <td>518.70</td>\n",
       "      <td>1989.76</td>\n",
       "    </tr>\n",
       "  </tbody>\n",
       "</table>\n",
       "</div>"
      ],
      "text/plain": [
       "                                                                         Fecha  \\\n",
       "13/02/2020 BECERRA CALVILLO MARIA BEATRIZ    SECRETARÍA DE LA HACIENDA PÚBLICA   \n",
       "           BUENO ESTRADA YESENIA             SECRETARÍA DE LA HACIENDA PÚBLICA   \n",
       "           BUENROSTRO PRIETO ERNESTO ALONSO  SECRETARÍA DE LA HACIENDA PÚBLICA   \n",
       "           BUENROSTRO PRIETO KARLA MARIA     SECRETARÍA DE LA HACIENDA PÚBLICA   \n",
       "           CARDENAS ANTOLIN CARMEN FABIOLA   SECRETARÍA DE LA HACIENDA PÚBLICA   \n",
       "\n",
       "                                                      Nombre Empleado  \\\n",
       "13/02/2020 BECERRA CALVILLO MARIA BEATRIZ                     CAJERO    \n",
       "           BUENO ESTRADA YESENIA                              CAJERO    \n",
       "           BUENROSTRO PRIETO ERNESTO ALONSO               ANALISTA B    \n",
       "           BUENROSTRO PRIETO KARLA MARIA     AUXILIAR ADMINISTRATIVO    \n",
       "           CARDENAS ANTOLIN CARMEN FABIOLA                    CAJERO    \n",
       "\n",
       "                                            Dependencia Puesto  Percepciones  \\\n",
       "13/02/2020 BECERRA CALVILLO MARIA BEATRIZ        ACTIVO   BASE       2508.46   \n",
       "           BUENO ESTRADA YESENIA                 ACTIVO   BASE       2508.46   \n",
       "           BUENROSTRO PRIETO ERNESTO ALONSO      ACTIVO   BASE       2508.46   \n",
       "           BUENROSTRO PRIETO KARLA MARIA         ACTIVO   BASE       2006.78   \n",
       "           CARDENAS ANTOLIN CARMEN FABIOLA       ACTIVO   BASE       2508.46   \n",
       "\n",
       "                                             Deducciones     Neto  \n",
       "13/02/2020 BECERRA CALVILLO MARIA BEATRIZ         518.70  1989.76  \n",
       "           BUENO ESTRADA YESENIA                  518.70  1989.76  \n",
       "           BUENROSTRO PRIETO ERNESTO ALONSO       518.70  1989.76  \n",
       "           BUENROSTRO PRIETO KARLA MARIA          411.54  1595.24  \n",
       "           CARDENAS ANTOLIN CARMEN FABIOLA        518.70  1989.76  "
      ]
     },
     "execution_count": 72,
     "metadata": {},
     "output_type": "execute_result"
    }
   ],
   "source": [
    "df=pd.read_csv(\"nomina_0_3000.csv\")\n",
    "df.head()"
   ]
  },
  {
   "cell_type": "code",
   "execution_count": 73,
   "metadata": {},
   "outputs": [
    {
     "data": {
      "text/html": [
       "<div>\n",
       "<style scoped>\n",
       "    .dataframe tbody tr th:only-of-type {\n",
       "        vertical-align: middle;\n",
       "    }\n",
       "\n",
       "    .dataframe tbody tr th {\n",
       "        vertical-align: top;\n",
       "    }\n",
       "\n",
       "    .dataframe thead th {\n",
       "        text-align: right;\n",
       "    }\n",
       "</style>\n",
       "<table border=\"1\" class=\"dataframe\">\n",
       "  <thead>\n",
       "    <tr style=\"text-align: right;\">\n",
       "      <th></th>\n",
       "      <th>Fecha</th>\n",
       "      <th>Nombre</th>\n",
       "      <th>Dependencia</th>\n",
       "      <th>Puesto</th>\n",
       "      <th>Estatus</th>\n",
       "      <th>Tipo</th>\n",
       "      <th>Percepciones</th>\n",
       "      <th>Deducciones</th>\n",
       "      <th>Neto</th>\n",
       "    </tr>\n",
       "  </thead>\n",
       "  <tbody>\n",
       "    <tr>\n",
       "      <td>0</td>\n",
       "      <td>Fecha</td>\n",
       "      <td>Nombre Empleado</td>\n",
       "      <td>Dependencia</td>\n",
       "      <td>Puesto</td>\n",
       "      <td>Percepciones</td>\n",
       "      <td>Deducciones</td>\n",
       "      <td>Neto</td>\n",
       "      <td>NaN</td>\n",
       "      <td>NaN</td>\n",
       "    </tr>\n",
       "    <tr>\n",
       "      <td>1</td>\n",
       "      <td>13/02/2020</td>\n",
       "      <td>BECERRA CALVILLO MARIA BEATRIZ</td>\n",
       "      <td>SECRETARÍA DE LA HACIENDA PÚBLICA</td>\n",
       "      <td>CAJERO</td>\n",
       "      <td>ACTIVO</td>\n",
       "      <td>BASE</td>\n",
       "      <td>2508.46</td>\n",
       "      <td>518.70</td>\n",
       "      <td>1989.76</td>\n",
       "    </tr>\n",
       "    <tr>\n",
       "      <td>2</td>\n",
       "      <td>13/02/2020</td>\n",
       "      <td>BUENO ESTRADA YESENIA</td>\n",
       "      <td>SECRETARÍA DE LA HACIENDA PÚBLICA</td>\n",
       "      <td>CAJERO</td>\n",
       "      <td>ACTIVO</td>\n",
       "      <td>BASE</td>\n",
       "      <td>2508.46</td>\n",
       "      <td>518.70</td>\n",
       "      <td>1989.76</td>\n",
       "    </tr>\n",
       "    <tr>\n",
       "      <td>3</td>\n",
       "      <td>13/02/2020</td>\n",
       "      <td>BUENROSTRO PRIETO ERNESTO ALONSO</td>\n",
       "      <td>SECRETARÍA DE LA HACIENDA PÚBLICA</td>\n",
       "      <td>ANALISTA B</td>\n",
       "      <td>ACTIVO</td>\n",
       "      <td>BASE</td>\n",
       "      <td>2508.46</td>\n",
       "      <td>518.70</td>\n",
       "      <td>1989.76</td>\n",
       "    </tr>\n",
       "    <tr>\n",
       "      <td>4</td>\n",
       "      <td>13/02/2020</td>\n",
       "      <td>BUENROSTRO PRIETO KARLA MARIA</td>\n",
       "      <td>SECRETARÍA DE LA HACIENDA PÚBLICA</td>\n",
       "      <td>AUXILIAR ADMINISTRATIVO</td>\n",
       "      <td>ACTIVO</td>\n",
       "      <td>BASE</td>\n",
       "      <td>2006.78</td>\n",
       "      <td>411.54</td>\n",
       "      <td>1595.24</td>\n",
       "    </tr>\n",
       "  </tbody>\n",
       "</table>\n",
       "</div>"
      ],
      "text/plain": [
       "        Fecha                            Nombre  \\\n",
       "0       Fecha                   Nombre Empleado   \n",
       "1  13/02/2020    BECERRA CALVILLO MARIA BEATRIZ   \n",
       "2  13/02/2020             BUENO ESTRADA YESENIA   \n",
       "3  13/02/2020  BUENROSTRO PRIETO ERNESTO ALONSO   \n",
       "4  13/02/2020     BUENROSTRO PRIETO KARLA MARIA   \n",
       "\n",
       "                         Dependencia                    Puesto       Estatus  \\\n",
       "0                        Dependencia                    Puesto  Percepciones   \n",
       "1  SECRETARÍA DE LA HACIENDA PÚBLICA                   CAJERO         ACTIVO   \n",
       "2  SECRETARÍA DE LA HACIENDA PÚBLICA                   CAJERO         ACTIVO   \n",
       "3  SECRETARÍA DE LA HACIENDA PÚBLICA               ANALISTA B         ACTIVO   \n",
       "4  SECRETARÍA DE LA HACIENDA PÚBLICA  AUXILIAR ADMINISTRATIVO         ACTIVO   \n",
       "\n",
       "          Tipo Percepciones  Deducciones     Neto  \n",
       "0  Deducciones         Neto          NaN      NaN  \n",
       "1         BASE      2508.46       518.70  1989.76  \n",
       "2         BASE      2508.46       518.70  1989.76  \n",
       "3         BASE      2508.46       518.70  1989.76  \n",
       "4         BASE      2006.78       411.54  1595.24  "
      ]
     },
     "execution_count": 73,
     "metadata": {},
     "output_type": "execute_result"
    }
   ],
   "source": [
    "names=[\"Fecha\", \"Nombre\",\"Dependencia\", \"Puesto\",\"Estatus\",\"Tipo\",\"Percepciones\",\"Deducciones\",\"Neto\"]\n",
    "df=pd.read_csv(\"nomina_0_3000.csv\",names=names, header=None)\n",
    "df.head()"
   ]
  },
  {
   "cell_type": "code",
   "execution_count": 74,
   "metadata": {},
   "outputs": [
    {
     "data": {
      "text/html": [
       "<div>\n",
       "<style scoped>\n",
       "    .dataframe tbody tr th:only-of-type {\n",
       "        vertical-align: middle;\n",
       "    }\n",
       "\n",
       "    .dataframe tbody tr th {\n",
       "        vertical-align: top;\n",
       "    }\n",
       "\n",
       "    .dataframe thead th {\n",
       "        text-align: right;\n",
       "    }\n",
       "</style>\n",
       "<table border=\"1\" class=\"dataframe\">\n",
       "  <thead>\n",
       "    <tr style=\"text-align: right;\">\n",
       "      <th></th>\n",
       "      <th>Fecha</th>\n",
       "      <th>Nombre</th>\n",
       "      <th>Dependencia</th>\n",
       "      <th>Puesto</th>\n",
       "      <th>Estatus</th>\n",
       "      <th>Tipo</th>\n",
       "      <th>Percepciones</th>\n",
       "      <th>Deducciones</th>\n",
       "      <th>Neto</th>\n",
       "    </tr>\n",
       "  </thead>\n",
       "  <tbody>\n",
       "    <tr>\n",
       "      <td>0</td>\n",
       "      <td>13/02/2020</td>\n",
       "      <td>BECERRA CALVILLO MARIA BEATRIZ</td>\n",
       "      <td>SECRETARÍA DE LA HACIENDA PÚBLICA</td>\n",
       "      <td>CAJERO</td>\n",
       "      <td>ACTIVO</td>\n",
       "      <td>BASE</td>\n",
       "      <td>2508.46</td>\n",
       "      <td>518.70</td>\n",
       "      <td>1989.76</td>\n",
       "    </tr>\n",
       "    <tr>\n",
       "      <td>1</td>\n",
       "      <td>13/02/2020</td>\n",
       "      <td>BUENO ESTRADA YESENIA</td>\n",
       "      <td>SECRETARÍA DE LA HACIENDA PÚBLICA</td>\n",
       "      <td>CAJERO</td>\n",
       "      <td>ACTIVO</td>\n",
       "      <td>BASE</td>\n",
       "      <td>2508.46</td>\n",
       "      <td>518.70</td>\n",
       "      <td>1989.76</td>\n",
       "    </tr>\n",
       "    <tr>\n",
       "      <td>2</td>\n",
       "      <td>13/02/2020</td>\n",
       "      <td>BUENROSTRO PRIETO ERNESTO ALONSO</td>\n",
       "      <td>SECRETARÍA DE LA HACIENDA PÚBLICA</td>\n",
       "      <td>ANALISTA B</td>\n",
       "      <td>ACTIVO</td>\n",
       "      <td>BASE</td>\n",
       "      <td>2508.46</td>\n",
       "      <td>518.70</td>\n",
       "      <td>1989.76</td>\n",
       "    </tr>\n",
       "    <tr>\n",
       "      <td>3</td>\n",
       "      <td>13/02/2020</td>\n",
       "      <td>BUENROSTRO PRIETO KARLA MARIA</td>\n",
       "      <td>SECRETARÍA DE LA HACIENDA PÚBLICA</td>\n",
       "      <td>AUXILIAR ADMINISTRATIVO</td>\n",
       "      <td>ACTIVO</td>\n",
       "      <td>BASE</td>\n",
       "      <td>2006.78</td>\n",
       "      <td>411.54</td>\n",
       "      <td>1595.24</td>\n",
       "    </tr>\n",
       "    <tr>\n",
       "      <td>4</td>\n",
       "      <td>13/02/2020</td>\n",
       "      <td>CARDENAS ANTOLIN CARMEN FABIOLA</td>\n",
       "      <td>SECRETARÍA DE LA HACIENDA PÚBLICA</td>\n",
       "      <td>CAJERO</td>\n",
       "      <td>ACTIVO</td>\n",
       "      <td>BASE</td>\n",
       "      <td>2508.46</td>\n",
       "      <td>518.70</td>\n",
       "      <td>1989.76</td>\n",
       "    </tr>\n",
       "  </tbody>\n",
       "</table>\n",
       "</div>"
      ],
      "text/plain": [
       "        Fecha                            Nombre  \\\n",
       "0  13/02/2020    BECERRA CALVILLO MARIA BEATRIZ   \n",
       "1  13/02/2020             BUENO ESTRADA YESENIA   \n",
       "2  13/02/2020  BUENROSTRO PRIETO ERNESTO ALONSO   \n",
       "3  13/02/2020     BUENROSTRO PRIETO KARLA MARIA   \n",
       "4  13/02/2020   CARDENAS ANTOLIN CARMEN FABIOLA   \n",
       "\n",
       "                         Dependencia                    Puesto Estatus  Tipo  \\\n",
       "0  SECRETARÍA DE LA HACIENDA PÚBLICA                   CAJERO   ACTIVO  BASE   \n",
       "1  SECRETARÍA DE LA HACIENDA PÚBLICA                   CAJERO   ACTIVO  BASE   \n",
       "2  SECRETARÍA DE LA HACIENDA PÚBLICA               ANALISTA B   ACTIVO  BASE   \n",
       "3  SECRETARÍA DE LA HACIENDA PÚBLICA  AUXILIAR ADMINISTRATIVO   ACTIVO  BASE   \n",
       "4  SECRETARÍA DE LA HACIENDA PÚBLICA                   CAJERO   ACTIVO  BASE   \n",
       "\n",
       "   Percepciones  Deducciones     Neto  \n",
       "0       2508.46       518.70  1989.76  \n",
       "1       2508.46       518.70  1989.76  \n",
       "2       2508.46       518.70  1989.76  \n",
       "3       2006.78       411.54  1595.24  \n",
       "4       2508.46       518.70  1989.76  "
      ]
     },
     "execution_count": 74,
     "metadata": {},
     "output_type": "execute_result"
    }
   ],
   "source": [
    "df=pd.read_csv(\"nomina_0_3000.csv\",names=names,header=None,skiprows=2)\n",
    "df.head()"
   ]
  },
  {
   "cell_type": "code",
   "execution_count": 75,
   "metadata": {},
   "outputs": [
    {
     "name": "stdout",
     "output_type": "stream",
     "text": [
      " El volumen de la unidad C es OS\n",
      " El n£mero de serie del volumen es: CCA4-F279\n",
      "\n",
      " Directorio de C:\\Users\\Jesus Davizon.000\\1_Robotica\n",
      "\n",
      "24/02/2020  07:40 p. m.    <DIR>          .\n",
      "24/02/2020  07:40 p. m.    <DIR>          ..\n",
      "24/02/2020  06:35 p. m.    <DIR>          .ipynb_checkpoints\n",
      "27/01/2020  07:59 p. m.             3,773 Clase2.ipynb\n",
      "24/02/2020  07:08 p. m.             5,222 Formulario sin t¡tulo (respuestas).xlsx\n",
      "27/01/2020  07:21 p. m.            25,465 FuncionesMod.ipynb\n",
      "17/02/2020  08:06 p. m.             7,853 Giro motores carro.ipynb\n",
      "16/02/2020  11:15 p. m.         4,298,714 Graphics.ipynb\n",
      "24/02/2020  07:39 p. m.            64,295 Linear Regression.ipynb\n",
      "27/01/2020  07:27 p. m.             8,457 Matrices.ipynb\n",
      "24/02/2020  07:40 p. m.    <DIR>          NominaJalisco\n",
      "24/02/2020  07:16 p. m.           531,143 nomina_0_3000.csv\n",
      "24/02/2020  07:16 p. m.           181,088 nomina_10001_.csv\n",
      "24/02/2020  07:16 p. m.           234,676 nomina_3001_4000.csv\n",
      "24/02/2020  07:16 p. m.           178,745 nomina_4001_4500.csv\n",
      "24/02/2020  07:16 p. m.            23,332 nomina_4901_4999.csv\n",
      "24/02/2020  07:16 p. m.           532,206 nomina_5001_7000.csv\n",
      "24/02/2020  07:16 p. m.           151,915 nomina_7000_10000.csv\n",
      "17/02/2020  06:12 p. m.            10,299 ProgramacionLineal.ipynb\n",
      "17/02/2020  08:06 p. m.            32,775 Suspension.ipynb\n",
      "09/02/2020  09:31 p. m.             9,406 Tortuga.ipynb\n",
      "27/01/2020  07:21 p. m.             3,765 Vectores.ipynb\n",
      "              18 archivos      6,303,129 bytes\n",
      "               4 dirs  751,269,076,992 bytes libres\n"
     ]
    }
   ],
   "source": [
    "!dir"
   ]
  },
  {
   "cell_type": "code",
   "execution_count": 78,
   "metadata": {},
   "outputs": [],
   "source": [
    "NominasList=[\"nomina_0_3000.csv\",\n",
    "           \"nomina_10001_.csv\",\n",
    "           \"nomina_3001_4000.csv\",\n",
    "           \"nomina_4001_4500.csv\",\n",
    "           \"nomina_4901_4999.csv\",\n",
    "           \"nomina_5001_7000.csv\",\n",
    "           \"nomina_7000_10000.csv\",]"
   ]
  },
  {
   "cell_type": "code",
   "execution_count": 82,
   "metadata": {},
   "outputs": [],
   "source": [
    "names=[\"Nombre\",\"Dependencia\",\"Puesto\",\"Percepciones\",\"Deducciones\",\"Neto\"]\n",
    "\n",
    "mi_df= lambda x: pd.read_csv(x,usecols=[1,2,3,6,7,8], names=names, header=None, skiprows=2)\n",
    "\n",
    "df_from_each_file=(mi_df(f) for f in NominasList)\n",
    "nomina = pd.concat(df_from_each_file, ignore_index=True)"
   ]
  },
  {
   "cell_type": "code",
   "execution_count": 85,
   "metadata": {},
   "outputs": [
    {
     "data": {
      "text/html": [
       "<div>\n",
       "<style scoped>\n",
       "    .dataframe tbody tr th:only-of-type {\n",
       "        vertical-align: middle;\n",
       "    }\n",
       "\n",
       "    .dataframe tbody tr th {\n",
       "        vertical-align: top;\n",
       "    }\n",
       "\n",
       "    .dataframe thead th {\n",
       "        text-align: right;\n",
       "    }\n",
       "</style>\n",
       "<table border=\"1\" class=\"dataframe\">\n",
       "  <thead>\n",
       "    <tr style=\"text-align: right;\">\n",
       "      <th></th>\n",
       "      <th>Nombre</th>\n",
       "      <th>Dependencia</th>\n",
       "      <th>Puesto</th>\n",
       "      <th>Percepciones</th>\n",
       "      <th>Deducciones</th>\n",
       "      <th>Neto</th>\n",
       "    </tr>\n",
       "  </thead>\n",
       "  <tbody>\n",
       "    <tr>\n",
       "      <td>0</td>\n",
       "      <td>BECERRA CALVILLO MARIA BEATRIZ</td>\n",
       "      <td>SECRETARÍA DE LA HACIENDA PÚBLICA</td>\n",
       "      <td>CAJERO</td>\n",
       "      <td>2508.46</td>\n",
       "      <td>518.70</td>\n",
       "      <td>1989.76</td>\n",
       "    </tr>\n",
       "    <tr>\n",
       "      <td>1</td>\n",
       "      <td>BUENO ESTRADA YESENIA</td>\n",
       "      <td>SECRETARÍA DE LA HACIENDA PÚBLICA</td>\n",
       "      <td>CAJERO</td>\n",
       "      <td>2508.46</td>\n",
       "      <td>518.70</td>\n",
       "      <td>1989.76</td>\n",
       "    </tr>\n",
       "    <tr>\n",
       "      <td>2</td>\n",
       "      <td>BUENROSTRO PRIETO ERNESTO ALONSO</td>\n",
       "      <td>SECRETARÍA DE LA HACIENDA PÚBLICA</td>\n",
       "      <td>ANALISTA B</td>\n",
       "      <td>2508.46</td>\n",
       "      <td>518.70</td>\n",
       "      <td>1989.76</td>\n",
       "    </tr>\n",
       "    <tr>\n",
       "      <td>3</td>\n",
       "      <td>BUENROSTRO PRIETO KARLA MARIA</td>\n",
       "      <td>SECRETARÍA DE LA HACIENDA PÚBLICA</td>\n",
       "      <td>AUXILIAR ADMINISTRATIVO</td>\n",
       "      <td>2006.78</td>\n",
       "      <td>411.54</td>\n",
       "      <td>1595.24</td>\n",
       "    </tr>\n",
       "    <tr>\n",
       "      <td>4</td>\n",
       "      <td>CARDENAS ANTOLIN CARMEN FABIOLA</td>\n",
       "      <td>SECRETARÍA DE LA HACIENDA PÚBLICA</td>\n",
       "      <td>CAJERO</td>\n",
       "      <td>2508.46</td>\n",
       "      <td>518.70</td>\n",
       "      <td>1989.76</td>\n",
       "    </tr>\n",
       "  </tbody>\n",
       "</table>\n",
       "</div>"
      ],
      "text/plain": [
       "                             Nombre                        Dependencia  \\\n",
       "0    BECERRA CALVILLO MARIA BEATRIZ  SECRETARÍA DE LA HACIENDA PÚBLICA   \n",
       "1             BUENO ESTRADA YESENIA  SECRETARÍA DE LA HACIENDA PÚBLICA   \n",
       "2  BUENROSTRO PRIETO ERNESTO ALONSO  SECRETARÍA DE LA HACIENDA PÚBLICA   \n",
       "3     BUENROSTRO PRIETO KARLA MARIA  SECRETARÍA DE LA HACIENDA PÚBLICA   \n",
       "4   CARDENAS ANTOLIN CARMEN FABIOLA  SECRETARÍA DE LA HACIENDA PÚBLICA   \n",
       "\n",
       "                     Puesto  Percepciones  Deducciones     Neto  \n",
       "0                   CAJERO        2508.46       518.70  1989.76  \n",
       "1                   CAJERO        2508.46       518.70  1989.76  \n",
       "2               ANALISTA B        2508.46       518.70  1989.76  \n",
       "3  AUXILIAR ADMINISTRATIVO        2006.78       411.54  1595.24  \n",
       "4                   CAJERO        2508.46       518.70  1989.76  "
      ]
     },
     "execution_count": 85,
     "metadata": {},
     "output_type": "execute_result"
    }
   ],
   "source": [
    "nomina.head()"
   ]
  },
  {
   "cell_type": "markdown",
   "metadata": {},
   "source": [
    "nomina.describe()"
   ]
  },
  {
   "cell_type": "code",
   "execution_count": 101,
   "metadata": {},
   "outputs": [
    {
     "data": {
      "text/plain": [
       "<matplotlib.axes._subplots.AxesSubplot at 0x2486f79f908>"
      ]
     },
     "execution_count": 101,
     "metadata": {},
     "output_type": "execute_result"
    },
    {
     "data": {
      "image/png": "[encoded data removed]",
      "text/plain": [
       "<Figure size 864x648 with 1 Axes>"
      ]
     },
     "metadata": {
      "needs_background": "light"
     },
     "output_type": "display_data"
    }
   ],
   "source": [
    "nomina.plot.scatter(\"Percepciones\",\"Deducciones\",figsize=(12,9))\n",
    "#plt.plot(nomina[\"Percepciones\"],yhat)"
   ]
  },
  {
   "cell_type": "code",
   "execution_count": 87,
   "metadata": {},
   "outputs": [
    {
     "data": {
      "text/html": [
       "<div>\n",
       "<style scoped>\n",
       "    .dataframe tbody tr th:only-of-type {\n",
       "        vertical-align: middle;\n",
       "    }\n",
       "\n",
       "    .dataframe tbody tr th {\n",
       "        vertical-align: top;\n",
       "    }\n",
       "\n",
       "    .dataframe thead th {\n",
       "        text-align: right;\n",
       "    }\n",
       "</style>\n",
       "<table border=\"1\" class=\"dataframe\">\n",
       "  <thead>\n",
       "    <tr style=\"text-align: right;\">\n",
       "      <th></th>\n",
       "      <th>Percepciones</th>\n",
       "      <th>Deducciones</th>\n",
       "      <th>Neto</th>\n",
       "    </tr>\n",
       "  </thead>\n",
       "  <tbody>\n",
       "    <tr>\n",
       "      <td>count</td>\n",
       "      <td>14002.000000</td>\n",
       "      <td>14002.000000</td>\n",
       "      <td>14002.000000</td>\n",
       "    </tr>\n",
       "    <tr>\n",
       "      <td>mean</td>\n",
       "      <td>9783.054558</td>\n",
       "      <td>4234.217962</td>\n",
       "      <td>5548.836601</td>\n",
       "    </tr>\n",
       "    <tr>\n",
       "      <td>std</td>\n",
       "      <td>13220.238007</td>\n",
       "      <td>5033.317698</td>\n",
       "      <td>9944.088694</td>\n",
       "    </tr>\n",
       "    <tr>\n",
       "      <td>min</td>\n",
       "      <td>-8149.380000</td>\n",
       "      <td>-8149.380000</td>\n",
       "      <td>0.000000</td>\n",
       "    </tr>\n",
       "    <tr>\n",
       "      <td>25%</td>\n",
       "      <td>6872.050000</td>\n",
       "      <td>1995.210000</td>\n",
       "      <td>2746.125000</td>\n",
       "    </tr>\n",
       "    <tr>\n",
       "      <td>50%</td>\n",
       "      <td>8362.500000</td>\n",
       "      <td>3581.155000</td>\n",
       "      <td>4639.750000</td>\n",
       "    </tr>\n",
       "    <tr>\n",
       "      <td>75%</td>\n",
       "      <td>9251.000000</td>\n",
       "      <td>5566.185000</td>\n",
       "      <td>6367.290000</td>\n",
       "    </tr>\n",
       "    <tr>\n",
       "      <td>max</td>\n",
       "      <td>791424.940000</td>\n",
       "      <td>324292.100000</td>\n",
       "      <td>770100.000000</td>\n",
       "    </tr>\n",
       "  </tbody>\n",
       "</table>\n",
       "</div>"
      ],
      "text/plain": [
       "        Percepciones    Deducciones           Neto\n",
       "count   14002.000000   14002.000000   14002.000000\n",
       "mean     9783.054558    4234.217962    5548.836601\n",
       "std     13220.238007    5033.317698    9944.088694\n",
       "min     -8149.380000   -8149.380000       0.000000\n",
       "25%      6872.050000    1995.210000    2746.125000\n",
       "50%      8362.500000    3581.155000    4639.750000\n",
       "75%      9251.000000    5566.185000    6367.290000\n",
       "max    791424.940000  324292.100000  770100.000000"
      ]
     },
     "execution_count": 87,
     "metadata": {},
     "output_type": "execute_result"
    }
   ],
   "source": [
    "nomina.describe()"
   ]
  },
  {
   "cell_type": "code",
   "execution_count": 102,
   "metadata": {},
   "outputs": [
    {
     "data": {
      "image/png": "[encoded data removed]",
      "text/plain": [
       "<Figure size 864x648 with 1 Axes>"
      ]
     },
     "metadata": {
      "needs_background": "light"
     },
     "output_type": "display_data"
    },
    {
     "name": "stdout",
     "output_type": "stream",
     "text": [
      "[233068.79643466]\n"
     ]
    }
   ],
   "source": [
    "plt.figure(figsize=(12,9))\n",
    "X,y=nomina[\"Percepciones\"].values, nomina[\"Deducciones\"].values\n",
    "X=X.reshape((len(X), 1))\n",
    "\n",
    "lr=linear_model.LinearRegression()\n",
    "lr.fit(X,y)\n",
    "#predict\n",
    "yhat=lr.predict(X)\n",
    "\n",
    "#plot data and predictions\n",
    "plt.scatter(X, y)\n",
    "plt.plot(X, yhat, color='red')\n",
    "plt.show()\n",
    "print(lr.predict([[800000]]))"
   ]
  },
  {
   "cell_type": "code",
   "execution_count": 103,
   "metadata": {},
   "outputs": [],
   "source": [
    "!start ."
   ]
  },
  {
   "cell_type": "code",
   "execution_count": null,
   "metadata": {},
   "outputs": [],
   "source": []
  }
 ],
 "metadata": {
  "kernelspec": {
   "display_name": "Python 3",
   "language": "python",
   "name": "python3"
  },
  "language_info": {
   "codemirror_mode": {
    "name": "ipython",
    "version": 3
   },
   "file_extension": ".py",
   "mimetype": "text/x-python",
   "name": "python",
   "nbconvert_exporter": "python",
   "pygments_lexer": "ipython3",
   "version": "3.7.4"
  }
 },
 "nbformat": 4,
 "nbformat_minor": 2
}
